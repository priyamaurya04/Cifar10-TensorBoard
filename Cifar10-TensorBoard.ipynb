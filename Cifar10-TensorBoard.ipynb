{
 "cells": [
  {
   "cell_type": "code",
   "execution_count": 141,
   "metadata": {},
   "outputs": [],
   "source": [
    "import tensorflow as tf\n",
    "import matplotlib.pyplot as plt\n",
    "import time\n",
    "import os\n",
    "from tensorflow.keras.callbacks import TensorBoard\n"
   ]
  },
  {
   "cell_type": "code",
   "execution_count": 142,
   "metadata": {},
   "outputs": [
    {
     "name": "stdout",
     "output_type": "stream",
     "text": [
      "vdvdfvd\n"
     ]
    }
   ],
   "source": [
    "path= \"Cifar-tensorboard\"\n",
    "tensorboard = TensorBoard(log_dir = 'logs/{}'.format(path),histogram_freq=1,profile_batch = 100000000)\n",
    "\n",
    "cifar = tf.keras.datasets.cifar10\n",
    "(x_train,y_train),(x_test,y_test)= cifar.load_data()\n",
    "#x_train = x_train.reshape(6000000,28,28,1)\n",
    "#x_test = x_test.reshape(1000000,28,28,1)\n",
    "#x_train /= 255\n",
    "#x_test /= 255\n",
    "x_train = x_train.astype('float32')\n",
    "x_test = x_test.astype('float32')\n",
    "print(\"vdvdfvd\")"
   ]
  },
  {
   "cell_type": "code",
   "execution_count": 143,
   "metadata": {},
   "outputs": [],
   "source": [
    "## Normalizing\n",
    "import numpy as np\n",
    "mean= np.mean(x_train,axis=(0,1,2,3))\n",
    "std= np.std(x_train,axis=(0,1,2,3))\n",
    "x_train=(x_train-mean)/(std + 1e-7)\n",
    "x_test=(x_test-mean)/(std+ 1e-7)\n"
   ]
  },
  {
   "cell_type": "code",
   "execution_count": 144,
   "metadata": {},
   "outputs": [],
   "source": [
    "from keras.utils import np_utils"
   ]
  },
  {
   "cell_type": "code",
   "execution_count": 145,
   "metadata": {},
   "outputs": [
    {
     "name": "stdout",
     "output_type": "stream",
     "text": [
      "(50000, 32, 32, 3)\n",
      "(50000, 10)\n"
     ]
    }
   ],
   "source": [
    "# number of classes and onehot encoding\n",
    "nClasses =10\n",
    "y_train = np_utils.to_categorical(y_train,nClasses)\n",
    "y_test = np_utils.to_categorical(y_test,nClasses)\n",
    "print(x_train.shape)\n",
    "print(y_train.shape)\n"
   ]
  },
  {
   "cell_type": "code",
   "execution_count": 146,
   "metadata": {},
   "outputs": [],
   "source": [
    "input_shape = (32,32,3)\n",
    "##x_test = np.reshape(x_test,(10000,3072))\n",
    "#x_train = x_train.astype('float32')\n",
    "#x_test = x_test.astype('float32')\n",
    "\n",
    "# Normalization of pixel values (to [0-1] range)\n",
    "\n",
    "#x_train /= 255\n",
    "#x_test /= 255"
   ]
  },
  {
   "cell_type": "code",
   "execution_count": 147,
   "metadata": {},
   "outputs": [],
   "source": [
    "model = tf.keras.models.Sequential()"
   ]
  },
  {
   "cell_type": "code",
   "execution_count": 148,
   "metadata": {},
   "outputs": [],
   "source": [
    "def createModel():\n",
    "    model.add(tf.keras.layers.Conv2D(32,(3,3), padding= 'same', activation= 'relu',input_shape = input_shape))\n",
    "    model.add(tf.keras.layers.Conv2D(32,(3,3), activation= 'relu')) \n",
    "    model.add(tf.keras.layers.MaxPooling2D(pool_size=(2,2)))\n",
    "    model.add(tf.keras.layers.Dropout(0.4))\n",
    "\n",
    "    model.add(tf.keras.layers.Conv2D(64,(3,3), padding= 'same', activation= 'relu'))\n",
    "    model.add(tf.keras.layers.Conv2D(64,(3,3), activation= 'relu')) \n",
    "    model.add(tf.keras.layers.MaxPooling2D(pool_size=(2,2)))\n",
    "    model.add(tf.keras.layers.Dropout(0.4))\n",
    "\n",
    "    model.add(tf.keras.layers.Conv2D(64,(3,3), padding= 'same', activation= 'relu'))\n",
    "    model.add(tf.keras.layers.Conv2D(64,(3,3), activation= 'relu')) \n",
    "    model.add(tf.keras.layers.MaxPooling2D(pool_size=(2,2)))\n",
    "    model.add(tf.keras.layers.Dropout(0.4))\n",
    "\n",
    "    # as output of maxpooling is not one D so we Flattern the layer\n",
    "\n",
    "    model.add(tf.keras.layers.Flatten())\n",
    "    model.add(tf.keras.layers.Dense(512,activation='relu'))\n",
    "    model.add(tf.keras.layers.Dropout(0.4))\n",
    "    model.add(tf.keras.layers.Dense(nClasses,activation='softmax'))\n",
    "    return model"
   ]
  },
  {
   "cell_type": "code",
   "execution_count": 149,
   "metadata": {},
   "outputs": [],
   "source": [
    "tf.keras.backend.clear_session()\n",
    "model = createModel()"
   ]
  },
  {
   "cell_type": "code",
   "execution_count": 150,
   "metadata": {},
   "outputs": [],
   "source": [
    "## Optimizer define\n",
    "AdamOpt = tf.keras.optimizers.Adam(lr = 0.001)"
   ]
  },
  {
   "cell_type": "code",
   "execution_count": 151,
   "metadata": {},
   "outputs": [],
   "source": [
    "model.compile(loss='categorical_crossentropy', optimizer= AdamOpt ,metrics=['accuracy'])"
   ]
  },
  {
   "cell_type": "code",
   "execution_count": 152,
   "metadata": {},
   "outputs": [
    {
     "name": "stdout",
     "output_type": "stream",
     "text": [
      "Model: \"sequential\"\n",
      "_________________________________________________________________\n",
      "Layer (type)                 Output Shape              Param #   \n",
      "=================================================================\n",
      "conv2d (Conv2D)              (None, 32, 32, 32)        896       \n",
      "_________________________________________________________________\n",
      "conv2d_1 (Conv2D)            (None, 30, 30, 32)        9248      \n",
      "_________________________________________________________________\n",
      "max_pooling2d (MaxPooling2D) (None, 15, 15, 32)        0         \n",
      "_________________________________________________________________\n",
      "dropout (Dropout)            (None, 15, 15, 32)        0         \n",
      "_________________________________________________________________\n",
      "conv2d_2 (Conv2D)            (None, 15, 15, 64)        18496     \n",
      "_________________________________________________________________\n",
      "conv2d_3 (Conv2D)            (None, 13, 13, 64)        36928     \n",
      "_________________________________________________________________\n",
      "max_pooling2d_1 (MaxPooling2 (None, 6, 6, 64)          0         \n",
      "_________________________________________________________________\n",
      "dropout_1 (Dropout)          (None, 6, 6, 64)          0         \n",
      "_________________________________________________________________\n",
      "conv2d_4 (Conv2D)            (None, 6, 6, 64)          36928     \n",
      "_________________________________________________________________\n",
      "conv2d_5 (Conv2D)            (None, 4, 4, 64)          36928     \n",
      "_________________________________________________________________\n",
      "max_pooling2d_2 (MaxPooling2 (None, 2, 2, 64)          0         \n",
      "_________________________________________________________________\n",
      "dropout_2 (Dropout)          (None, 2, 2, 64)          0         \n",
      "_________________________________________________________________\n",
      "flatten (Flatten)            (None, 256)               0         \n",
      "_________________________________________________________________\n",
      "dense (Dense)                (None, 512)               131584    \n",
      "_________________________________________________________________\n",
      "dropout_3 (Dropout)          (None, 512)               0         \n",
      "_________________________________________________________________\n",
      "dense_1 (Dense)              (None, 10)                5130      \n",
      "=================================================================\n",
      "Total params: 276,138\n",
      "Trainable params: 276,138\n",
      "Non-trainable params: 0\n",
      "_________________________________________________________________\n"
     ]
    }
   ],
   "source": [
    "model.summary()"
   ]
  },
  {
   "cell_type": "code",
   "execution_count": 153,
   "metadata": {},
   "outputs": [],
   "source": [
    "# For better Training presentation\n",
    "class CustomCallback(tf.keras.callbacks.Callback):\n",
    "    def on_epoch_end(self,epoch,logs={}):\n",
    "        if(epoch%5==0):\n",
    "            print(\"just finished epoch\", epoch)\n",
    "            print(\"***************************\")\n",
    "            print(\"loss evaluation\", logs.get('val_loss'))\n",
    "            print(\"Accuracy reached train is \", logs.get('acc'))\n",
    "            print(\"Accuracy reached val is \", logs.get('val_acc'))\n",
    "            return \n",
    "            "
   ]
  },
  {
   "cell_type": "code",
   "execution_count": 154,
   "metadata": {},
   "outputs": [
    {
     "data": {
      "text/plain": [
       "array([[0., 0., 0., ..., 0., 0., 0.],\n",
       "       [0., 0., 0., ..., 0., 0., 1.],\n",
       "       [0., 0., 0., ..., 0., 0., 1.],\n",
       "       ...,\n",
       "       [0., 0., 0., ..., 0., 0., 1.],\n",
       "       [0., 1., 0., ..., 0., 0., 0.],\n",
       "       [0., 1., 0., ..., 0., 0., 0.]], dtype=float32)"
      ]
     },
     "execution_count": 154,
     "metadata": {},
     "output_type": "execute_result"
    }
   ],
   "source": [
    "y_train"
   ]
  },
  {
   "cell_type": "code",
   "execution_count": 155,
   "metadata": {},
   "outputs": [
    {
     "name": "stdout",
     "output_type": "stream",
     "text": [
      "Train on 50000 samples\n",
      "Epoch 1/2\n",
      "50000/50000 [==============================] - 145s 3ms/sample - loss: 1.8518 - accuracy: 0.3046\n",
      "Epoch 2/2\n",
      "50000/50000 [==============================] - 146s 3ms/sample - loss: 1.4124 - accuracy: 0.4808\n"
     ]
    },
    {
     "data": {
      "text/plain": [
       "<tensorflow.python.keras.callbacks.History at 0x22c817fc6d8>"
      ]
     },
     "execution_count": 155,
     "metadata": {},
     "output_type": "execute_result"
    }
   ],
   "source": [
    "batch_size = 256\n",
    "epochs = 10\n",
    "##CC= CustomCallback()\n",
    "model.fit(x_train,y_train,batch_size = batch_size, epochs = 2,callbacks =[tensorboard])"
   ]
  },
  {
   "cell_type": "code",
   "execution_count": 156,
   "metadata": {},
   "outputs": [
    {
     "name": "stdout",
     "output_type": "stream",
     "text": [
      "10000/10000 [==============================] - 8s 791us/sample - loss: 1.1972 - accuracy: 0.5691\n",
      "1.197162679862976 0.5691\n"
     ]
    }
   ],
   "source": [
    "## Now check the loss and Accuracy with test data\n",
    "val_loss, val_accu = model.evaluate(x_test,y_test)\n",
    "print(val_loss,val_accu)"
   ]
  },
  {
   "cell_type": "code",
   "execution_count": 157,
   "metadata": {},
   "outputs": [
    {
     "name": "stdout",
     "output_type": "stream",
     "text": [
      "[[2.13410649e-02 1.94176324e-02 7.56007582e-02 ... 3.15976813e-02\n",
      "  3.29449363e-02 2.54678037e-02]\n",
      " [2.44181633e-01 1.94191262e-01 3.18412180e-03 ... 3.12584569e-04\n",
      "  5.09924710e-01 4.61516492e-02]\n",
      " [2.80466944e-01 1.14207797e-01 2.76404675e-02 ... 5.33436285e-03\n",
      "  4.93457794e-01 5.39161451e-02]\n",
      " ...\n",
      " [7.10899616e-03 1.16236589e-03 7.74419010e-02 ... 1.65220991e-01\n",
      "  1.82930450e-03 3.08874343e-03]\n",
      " [1.17286302e-01 1.56187013e-01 1.49298280e-01 ... 1.04619950e-01\n",
      "  1.29720755e-02 2.15044841e-02]\n",
      " [1.03214500e-03 2.38878260e-04 1.03558656e-02 ... 8.50536466e-01\n",
      "  1.41052669e-05 9.34149721e-04]]\n"
     ]
    }
   ],
   "source": [
    "## now if we want to make the prediction from new models but it will show predicted number as array\n",
    "\n",
    "prediction= model.predict(x_test)\n",
    "print(prediction)"
   ]
  },
  {
   "cell_type": "code",
   "execution_count": 158,
   "metadata": {},
   "outputs": [],
   "source": [
    "## to covert the array into number to show the result we need to use numpy\n",
    "import numpy as np"
   ]
  },
  {
   "cell_type": "code",
   "execution_count": 159,
   "metadata": {},
   "outputs": [
    {
     "name": "stdout",
     "output_type": "stream",
     "text": [
      "6\n"
     ]
    }
   ],
   "source": [
    "## will predict the element like x_test[5] here, and print the prediction result as 6, so we can see in the below code is 6 label is given to Frog\n",
    "print(np.argmax(prediction[5]))"
   ]
  },
  {
   "cell_type": "code",
   "execution_count": 160,
   "metadata": {},
   "outputs": [
    {
     "name": "stderr",
     "output_type": "stream",
     "text": [
      "Clipping input data to the valid range for imshow with RGB data ([0..1] for floats or [0..255] for integers).\n"
     ]
    },
    {
     "data": {
      "text/plain": [
       "<matplotlib.image.AxesImage at 0x22c870dc1d0>"
      ]
     },
     "execution_count": 160,
     "metadata": {},
     "output_type": "execute_result"
    },
    {
     "data": {
      "image/png": "[encoded data removed]",
      "text/plain": [
       "<Figure size 432x288 with 1 Axes>"
      ]
     },
     "metadata": {
      "needs_background": "light"
     },
     "output_type": "display_data"
    }
   ],
   "source": [
    "## now lets check what is there at x_test[5] postion. For correct prediction, it must be Frog. \n",
    "\n",
    "plt.imshow(x_test[5],cmap='gray')"
   ]
  },
  {
   "cell_type": "code",
   "execution_count": null,
   "metadata": {},
   "outputs": [],
   "source": [
    "## These are the labels are name of classes of each image\n",
    "\n",
    "0: airplane\n",
    "1: automobile\n",
    "2: bird\n",
    "3: cat\n",
    "4: deer\n",
    "5: dog\n",
    "6: frog\n",
    "7: horse\n",
    "8: ship\n",
    "9: truck"
   ]
  }
 ],
 "metadata": {
  "kernelspec": {
   "display_name": "Python 3",
   "language": "python",
   "name": "python3"
  },
  "language_info": {
   "codemirror_mode": {
    "name": "ipython",
    "version": 3
   },
   "file_extension": ".py",
   "mimetype": "text/x-python",
   "name": "python",
   "nbconvert_exporter": "python",
   "pygments_lexer": "ipython3",
   "version": "3.6.10"
  }
 },
 "nbformat": 4,
 "nbformat_minor": 4
}
